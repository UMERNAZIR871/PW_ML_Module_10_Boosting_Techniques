{
 "cells": [
  {
   "cell_type": "markdown",
   "id": "ce3eb07a-da6e-4d23-9393-bb9fb8b7dd72",
   "metadata": {},
   "source": [
    "# Boosting Techniques | Assignment"
   ]
  },
  {
   "cell_type": "markdown",
   "id": "7e913a12-4dd7-4cee-996b-2e7ca8ae6077",
   "metadata": {},
   "source": [
    "**Q 1:  What is Boosting in Machine Learning? Explain how it improves weak learners.**"
   ]
  },
  {
   "cell_type": "markdown",
   "id": "1c2e0f7c-6c99-4942-aae5-fd78b70a1ab4",
   "metadata": {},
   "source": [
    "**Ans.** \n",
    "## Boosting:\n",
    "- **Boosting** is an ensemble learning technique that combines multiple **weak learners** (models that perform slightly better than random guessing, e.g., shallow decision trees) to create a **strong learner** with high accuracy.  \n",
    "- Unlike Bagging, where models are trained **independently**, Boosting builds models **sequentially**, with each new model focusing on the **errors** made by the previous ones.  \n",
    "\n",
    "---\n",
    "\n",
    "## How Boosting Works\n",
    "1. Start with a weak model (e.g., a decision stump).  \n",
    "2. Identify the samples that were misclassified by this model.  \n",
    "3. Assign **higher weights** to these misclassified samples, so that the next model pays more attention to them.  \n",
    "4. Train the next weak learner on this updated dataset.  \n",
    "5. Repeat the process, adding weak learners sequentially.  \n",
    "6. Combine all weak learners’ predictions (using weighted majority voting for classification or weighted sum for regression).  \n",
    "\n",
    "---\n",
    "\n",
    "## How Boosting Improves Weak Learners\n",
    "- By **focusing on mistakes**, Boosting forces new learners to correct the weaknesses of earlier learners.  \n",
    "- This reduces **bias** (underfitting) and results in a strong predictive model.  \n",
    "- The final model is an **ensemble of weak learners** that together achieve high accuracy.  \n",
    "\n",
    "---\n",
    "\n",
    "## Popular Boosting Algorithms\n",
    "- **AdaBoost (Adaptive Boosting):** Adjusts sample weights after each round.  \n",
    "- **Gradient Boosting:** Uses gradient descent to minimize loss function.  \n",
    "- **XGBoost, LightGBM, CatBoost:** Optimized and scalable implementations of boosting.  \n"
   ]
  },
  {
   "cell_type": "markdown",
   "id": "ed989eec-d26a-4191-9f69-ed65cc1fc701",
   "metadata": {},
   "source": [
    "**Q 2: What is the difference between AdaBoost and Gradient Boosting in terms of how models are trained?**"
   ]
  },
  {
   "cell_type": "markdown",
   "id": "7b6c601d-137e-401a-9d88-992045bcc120",
   "metadata": {},
   "source": [
    "**Ans.**"
   ]
  },
  {
   "cell_type": "markdown",
   "id": "a032689d-ac63-462f-9287-59a9f1f29f89",
   "metadata": {},
   "source": [
    "Both **AdaBoost** and **Gradient Boosting** are popular boosting algorithms, but they differ in how they train models and adjust to errors.  \n",
    "\n",
    "---\n",
    "\n",
    "## 1. AdaBoost (Adaptive Boosting)\n",
    "- **Training Approach:**\n",
    "  - Starts with equal weights for all training samples.  \n",
    "  - After each weak learner (e.g., decision stump), the weights of **misclassified samples** are increased.  \n",
    "  - The next learner focuses more on the harder (misclassified) samples.  \n",
    "- **Error Handling:** Misclassified points get higher weights, so subsequent models try harder to classify them correctly.  \n",
    "- **Model Combination:** Final prediction is a **weighted majority vote** (classification) or weighted sum (regression).  \n",
    "\n",
    "---\n",
    "\n",
    "## 2. Gradient Boosting\n",
    "- **Training Approach:**\n",
    "  - Models are trained **sequentially**, but instead of adjusting sample weights, each new model tries to **fit the residual errors** (the difference between actual values and predictions) of the previous model.  \n",
    "  - Uses **gradient descent** to minimize a chosen loss function (e.g., MSE for regression, log-loss for classification).  \n",
    "- **Error Handling:** Focuses directly on minimizing the overall **loss function** by fitting residuals.  \n",
    "- **Model Combination:** Final prediction is the **sum of all weak learners’ outputs**, weighted by a learning rate.  \n",
    "\n",
    "---\n",
    "\n",
    "## Key Differences\n",
    "\n",
    "| Aspect                | AdaBoost                               | Gradient Boosting                       |\n",
    "|------------------------|----------------------------------------|------------------------------------------|\n",
    "| **Error Handling**     | Increases weights of misclassified samples | Fits new learners to **residual errors** |\n",
    "| **Optimization**       | No explicit optimization, just weight adjustment | Uses **gradient descent** on a loss function |\n",
    "| **Focus**              | Harder-to-classify samples             | Overall loss minimization                 |\n",
    "| **Combination**        | Weighted vote/sum                      | Weighted additive model                   |\n",
    "| **Typical Weak Learner** | Decision stumps (shallow trees)       | Deeper trees often used                   |\n",
    "\n",
    "---"
   ]
  },
  {
   "cell_type": "markdown",
   "id": "410734a6-4bad-43b3-92c4-20f9c87b37ec",
   "metadata": {},
   "source": [
    "**Q 3: How does regularization help in XGBoost?**"
   ]
  },
  {
   "cell_type": "markdown",
   "id": "de93f299-0958-42f2-8615-d114d030e5f0",
   "metadata": {},
   "source": [
    "**Ans.** "
   ]
  },
  {
   "cell_type": "markdown",
   "id": "201f2d83-7069-418d-9fd0-e76bd5169cfd",
   "metadata": {},
   "source": [
    "## XGBoost:\n",
    "- **XGBoost (Extreme Gradient Boosting)** is an advanced implementation of Gradient Boosting.  \n",
    "- It is known for being **fast, scalable, and highly accurate**, widely used in machine learning competitions and real-world applications.  \n",
    "\n",
    "---\n",
    "\n",
    "## Role of Regularization in XGBoost\n",
    "Unlike traditional Gradient Boosting, XGBoost includes **explicit regularization terms** in its objective function.  \n",
    "The objective function is:\n",
    "\n",
    "\n",
    "# Objective Function in XGBoost\n",
    "\n",
    "The objective function in XGBoost combines the **training loss** and a **regularization term**:\n",
    "\n",
    "\n",
    "$$\n",
    "\\text{Obj} = \\text{Loss (training error)} + \\text{Regularization (model complexity penalty)}\n",
    "$$\n",
    "\n",
    "\n",
    "\n",
    "### Types of Regularization in XGBoost:\n",
    "1. **L1 Regularization (Lasso penalty, parameter = `alpha`)**  \n",
    "   - Encourages sparsity (forces some feature weights to become zero).  \n",
    "   - Helps in **feature selection** by ignoring irrelevant features.  \n",
    "\n",
    "2. **L2 Regularization (Ridge penalty, parameter = `lambda`)**  \n",
    "   - Shrinks weights to prevent them from becoming too large.  \n",
    "   - Improves **stability** and reduces overfitting.  \n",
    "\n",
    "---\n",
    "\n",
    "## How Regularization Helps\n",
    "1. **Prevents Overfitting**  \n",
    "   - By penalizing overly complex trees (too many splits or very deep trees).  \n",
    "\n",
    "2. **Improves Generalization**  \n",
    "   - Helps the model perform better on unseen data rather than just memorizing the training set.  \n",
    "\n",
    "3. **Encourages Simpler Models**  \n",
    "   - Trees with fewer splits and less noise are preferred.  \n",
    "\n",
    "4. **Feature Selection**  \n",
    "   - L1 regularization can automatically drop less useful features by setting their weights to zero.  \n"
   ]
  },
  {
   "cell_type": "markdown",
   "id": "deffacbb-8286-4a93-ac57-38dec5856007",
   "metadata": {},
   "source": [
    "**Q 4: Why is CatBoost considered efficient for handling categorical data?**"
   ]
  },
  {
   "cell_type": "markdown",
   "id": "f4c737ec-bc2d-4dbb-9e83-4778c32dc829",
   "metadata": {},
   "source": [
    "**Ans.** "
   ]
  },
  {
   "cell_type": "markdown",
   "id": "b9bc71f6-6bfb-447a-ae02-cfb2f64a883d",
   "metadata": {},
   "source": [
    "## CatBoost:-\n",
    "- **CatBoost** (Categorical Boosting) is a gradient boosting algorithm developed by Yandex.  \n",
    "- It is designed to handle **categorical features** more effectively and efficiently than other boosting algorithms like XGBoost and LightGBM.  \n",
    "\n",
    "---\n",
    "\n",
    "## Why CatBoost Handles Categorical Data Well\n",
    "\n",
    "### 1. No Need for One-Hot Encoding or Label Encoding\n",
    "- Traditional methods like **XGBoost** or **LightGBM** often require categorical variables to be manually transformed into numbers (e.g., one-hot encoding).  \n",
    "- CatBoost automatically processes categorical features without expanding them into many binary columns, saving memory and computation.  \n",
    "\n",
    "---\n",
    "\n",
    "### 2. Target Statistics with Ordered Encoding\n",
    "- CatBoost uses a technique called **ordered target statistics**:  \n",
    "  - Instead of directly using the target mean for encoding (which may cause data leakage), CatBoost processes categories in a special way.  \n",
    "  - It ensures that the target encoding for a data point is calculated using **only the previous examples**, preventing target leakage.  \n",
    "- This makes training **robust and unbiased**.  \n",
    "\n",
    "---\n",
    "\n",
    "### 3. Efficient Handling of High-Cardinality Categories\n",
    "- Features with many unique values (e.g., ZIP codes, product IDs) are handled efficiently.  \n",
    "- CatBoost applies advanced statistical techniques to encode such categories without exploding feature space (as happens with one-hot encoding).  \n",
    "\n",
    "---\n",
    "\n",
    "### 4. Built-in Support for Categorical Features\n",
    "- You can simply pass categorical feature indices/column names to CatBoost, and it will **natively process them**.  \n",
    "- This makes it **user-friendly** and avoids complex preprocessing pipelines.  \n",
    "\n",
    "---\n",
    "\n",
    "## Advantages\n",
    "1. **Less preprocessing** → Saves time and reduces errors.  \n",
    "2. **No target leakage** → More reliable models.  \n",
    "3. **Efficient with high-cardinality features** → Handles categorical variables directly.  \n",
    "4. **Better accuracy** on datasets with many categorical features.  \n",
    "\n",
    "---"
   ]
  },
  {
   "cell_type": "markdown",
   "id": "5574e314-f4a5-4cbd-9d7a-b0522e275a3e",
   "metadata": {},
   "source": [
    "**Q 5: What are some real-world applications where boosting techniques are preferred over bagging methods?**"
   ]
  },
  {
   "cell_type": "markdown",
   "id": "d343ec44-d63b-4841-9e55-4b7cf07723d0",
   "metadata": {},
   "source": [
    "**Ans.**\n",
    "## Why Boosting Over Bagging?\n",
    "- **Bagging (e.g., Random Forest)** is good at reducing variance and preventing overfitting.  \n",
    "- **Boosting (e.g., AdaBoost, Gradient Boosting, XGBoost, LightGBM, CatBoost)** is often preferred when we want **higher accuracy** and the dataset is complex or slightly imbalanced.  \n",
    "- Boosting focuses on **hard-to-classify cases** and reduces **bias**, making it powerful for real-world predictive tasks.  \n",
    "\n",
    "---\n",
    "\n",
    "## Real-World Applications Where Boosting is Preferred\n",
    "\n",
    "1. **Fraud Detection (Finance & Banking)**\n",
    "   - Boosting algorithms like **XGBoost** are widely used for detecting fraudulent transactions.  \n",
    "   - They handle **imbalanced datasets** (very few fraud cases vs. many normal cases) better than bagging.\n",
    "\n",
    "2. **Customer Churn Prediction (Telecom, E-commerce)**\n",
    "   - Boosting focuses on the **minority class (customers likely to leave)**, improving accuracy in churn models.  \n",
    "\n",
    "3. **Medical Diagnosis**\n",
    "   - Boosting is used for **disease prediction** (e.g., cancer detection, patient readmission risk).  \n",
    "   - It captures complex non-linear patterns in health data.  \n",
    "\n",
    "4. **Search Engines and Ranking**\n",
    "   - Algorithms like **LambdaMART (a Gradient Boosting variant)** are used by search engines (e.g., Microsoft Bing, Yandex) for **ranking web pages**.  \n",
    "\n",
    "5. **Credit Scoring & Risk Assessment**\n",
    "   - Boosting is widely adopted in the **insurance** and **loan approval** industries.  \n",
    "   - It provides high accuracy in predicting defaults or risks.  \n",
    "\n",
    "6. **Image Recognition & Computer Vision**\n",
    "   - Early boosting methods (like **AdaBoost**) were used in face detection (e.g., Viola-Jones face detector).  \n",
    "   - Still useful for structured vision tasks when deep learning isn’t practical.  \n",
    "\n",
    "7. **Recommendation Systems**\n",
    "   - Boosting models can improve predictions in **personalized product recommendations** by handling complex user-item interaction patterns.  \n",
    "\n",
    "---"
   ]
  },
  {
   "cell_type": "markdown",
   "id": "40c5b8be-2e88-4a46-b69a-9cb9dc6d4023",
   "metadata": {},
   "source": [
    "\n",
    "# Datasets: \n",
    "- Use sklearn.datasets.load_breast_cancer() for classification tasks. \n",
    "- Use sklearn.datasets.fetch_california_housing() for regression tasks."
   ]
  },
  {
   "cell_type": "markdown",
   "id": "57bcb1ce-b436-4fa1-803e-b1d046e6186b",
   "metadata": {},
   "source": [
    "**Q 6: Write a Python program to:** \n",
    "- Train an AdaBoost Classifier on the Breast Cancer dataset\n",
    "- Print the model accuracy \n",
    "> (Include your Python code and output in the code box below.)"
   ]
  },
  {
   "cell_type": "markdown",
   "id": "fbb2267a-b936-413a-8691-ec0fa25bca0b",
   "metadata": {},
   "source": [
    "**Ans.**"
   ]
  },
  {
   "cell_type": "code",
   "execution_count": 1,
   "id": "f41a9cb8-7e13-43ab-bfc0-a7b2cf3d0438",
   "metadata": {},
   "outputs": [
    {
     "name": "stdout",
     "output_type": "stream",
     "text": [
      "AdaBoost Classifier Accuracy: 97.08%\n"
     ]
    }
   ],
   "source": [
    "# Import required libraries\n",
    "from sklearn.datasets import load_breast_cancer\n",
    "from sklearn.model_selection import train_test_split\n",
    "from sklearn.ensemble import AdaBoostClassifier\n",
    "from sklearn.metrics import accuracy_score\n",
    "\n",
    "# Load dataset\n",
    "data = load_breast_cancer()\n",
    "X, y = data.data, data.target\n",
    "\n",
    "# Split into train and test sets\n",
    "X_train, X_test, y_train, y_test = train_test_split(\n",
    "    X, y, test_size=0.3, random_state=42\n",
    ")\n",
    "\n",
    "# Train AdaBoost Classifier\n",
    "adaboost = AdaBoostClassifier(n_estimators=100, random_state=42)\n",
    "adaboost.fit(X_train, y_train)\n",
    "\n",
    "# Predict on test set\n",
    "y_pred = adaboost.predict(X_test)\n",
    "\n",
    "# Evaluate accuracy\n",
    "accuracy = accuracy_score(y_test, y_pred)\n",
    "print(\"AdaBoost Classifier Accuracy: {:.2f}%\".format(accuracy * 100))\n"
   ]
  },
  {
   "cell_type": "markdown",
   "id": "4ca18148-5bca-430d-8422-22689675acde",
   "metadata": {},
   "source": [
    "**Q 7:  Write a Python program to:**\n",
    "- Train a Gradient Boosting Regressor on the California Housing dataset \n",
    "- Evaluate performance using R-squared score \n",
    "> (Include your Python code and output in the code box below.)"
   ]
  },
  {
   "cell_type": "markdown",
   "id": "bbf2d0e0-676a-404c-aa09-91633a87b859",
   "metadata": {},
   "source": [
    "**Ans.** "
   ]
  },
  {
   "cell_type": "code",
   "execution_count": 3,
   "id": "dc2674ba-ba54-455b-83de-6e2922f60243",
   "metadata": {},
   "outputs": [
    {
     "name": "stdout",
     "output_type": "stream",
     "text": [
      "Gradient Boosting Regressor R-squared Score: 0.8050\n"
     ]
    }
   ],
   "source": [
    "# Import required libraries\n",
    "from sklearn.datasets import fetch_california_housing\n",
    "from sklearn.model_selection import train_test_split\n",
    "from sklearn.ensemble import GradientBoostingRegressor\n",
    "from sklearn.metrics import r2_score\n",
    "\n",
    "# Load dataset\n",
    "housing = fetch_california_housing()\n",
    "X, y = housing.data, housing.target\n",
    "\n",
    "# Split into train and test sets\n",
    "X_train, X_test, y_train, y_test = train_test_split(\n",
    "    X, y, test_size=0.3, random_state=42\n",
    ")\n",
    "\n",
    "# Train Gradient Boosting Regressor\n",
    "gbr = GradientBoostingRegressor(n_estimators=200, learning_rate=0.1, max_depth=3, random_state=42)\n",
    "gbr.fit(X_train, y_train)\n",
    "\n",
    "# Predict on test set\n",
    "y_pred = gbr.predict(X_test)\n",
    "\n",
    "# Evaluate with R-squared score\n",
    "r2 = r2_score(y_test, y_pred)\n",
    "print(\"Gradient Boosting Regressor R-squared Score: {:.4f}\".format(r2))\n"
   ]
  },
  {
   "cell_type": "markdown",
   "id": "553ed0e2-a117-41f8-83c7-86b7b71df9b2",
   "metadata": {},
   "source": [
    "**Q 8: Write a Python program to:**\n",
    "- Train an XGBoost Classifier on the Breast Cancer dataset\n",
    "- Tune the learning rate using GridSearchCV\n",
    "- Print the best parameters and accuracy \n",
    "> (Include your Python code and output in the code box below.)"
   ]
  },
  {
   "cell_type": "markdown",
   "id": "327bb2a1-f0ba-452b-b6ff-0c67d6a1aae7",
   "metadata": {},
   "source": [
    "**Ans.**"
   ]
  },
  {
   "cell_type": "code",
   "execution_count": 6,
   "id": "65a5a865-b6e3-4b92-9bae-2cbdd43bf29d",
   "metadata": {},
   "outputs": [
    {
     "name": "stdout",
     "output_type": "stream",
     "text": [
      "Best Parameters: {'learning_rate': 0.3}\n",
      "Final Accuracy: 96.49%\n"
     ]
    }
   ],
   "source": [
    "# Import required libraries\n",
    "from sklearn.datasets import load_breast_cancer\n",
    "from sklearn.model_selection import train_test_split, GridSearchCV\n",
    "from sklearn.metrics import accuracy_score\n",
    "from xgboost import XGBClassifier\n",
    "\n",
    "import warnings\n",
    "warnings.filterwarnings('ignore')\n",
    "\n",
    "# Load dataset\n",
    "data = load_breast_cancer()\n",
    "X, y = data.data, data.target\n",
    "\n",
    "# Split into train and test sets\n",
    "X_train, X_test, y_train, y_test = train_test_split(\n",
    "    X, y, test_size=0.3, random_state=42\n",
    ")\n",
    "\n",
    "# Define the model\n",
    "xgb = XGBClassifier(use_label_encoder=False, eval_metric='logloss', random_state=42)\n",
    "\n",
    "# Define parameter grid (tuning only learning_rate here)\n",
    "param_grid = {\n",
    "    'learning_rate': [0.01, 0.05, 0.1, 0.2, 0.3]\n",
    "}\n",
    "\n",
    "# Setup GridSearchCV\n",
    "grid_search = GridSearchCV(\n",
    "    estimator=xgb,\n",
    "    param_grid=param_grid,\n",
    "    cv=5,\n",
    "    scoring='accuracy',\n",
    "    n_jobs=-1\n",
    ")\n",
    "\n",
    "# Fit GridSearchCV\n",
    "grid_search.fit(X_train, y_train)\n",
    "\n",
    "# Get best model\n",
    "best_xgb = grid_search.best_estimator_\n",
    "\n",
    "# Predict on test set\n",
    "y_pred = best_xgb.predict(X_test)\n",
    "final_accuracy = accuracy_score(y_test, y_pred)\n",
    "\n",
    "# Print results\n",
    "print(\"Best Parameters:\", grid_search.best_params_)\n",
    "print(\"Final Accuracy: {:.2f}%\".format(final_accuracy * 100))\n"
   ]
  },
  {
   "cell_type": "markdown",
   "id": "1ac5b11c-ef38-4e7b-b0e8-ed6a047f9c7c",
   "metadata": {},
   "source": [
    "**Q 9: Write a Python program to:**\n",
    "- Train a CatBoost Classifier \n",
    "- Plot the confusion matrix using seaborn \n",
    "> (Include your Python code and output in the code box below.)"
   ]
  },
  {
   "cell_type": "markdown",
   "id": "f5d6fec9-a1bd-4bf3-a41c-132ef5cc9e9f",
   "metadata": {},
   "source": [
    "**Ans.** "
   ]
  },
  {
   "cell_type": "code",
   "execution_count": 8,
   "id": "f25db902-cc84-4b02-92c3-4eacea50073e",
   "metadata": {},
   "outputs": [
    {
     "name": "stdout",
     "output_type": "stream",
     "text": [
      "CatBoost Classifier Accuracy: 96.49%\n"
     ]
    },
    {
     "data": {
      "image/png": "[encoded data removed]",
      "text/plain": [
       "<Figure size 600x400 with 2 Axes>"
      ]
     },
     "metadata": {},
     "output_type": "display_data"
    }
   ],
   "source": [
    "# Import required libraries\n",
    "from sklearn.datasets import load_breast_cancer\n",
    "from sklearn.model_selection import train_test_split\n",
    "from sklearn.metrics import confusion_matrix, accuracy_score\n",
    "import seaborn as sns\n",
    "import matplotlib.pyplot as plt\n",
    "from catboost import CatBoostClassifier\n",
    "\n",
    "# Load dataset\n",
    "data = load_breast_cancer()\n",
    "X, y = data.data, data.target\n",
    "\n",
    "# Split into train and test sets\n",
    "X_train, X_test, y_train, y_test = train_test_split(\n",
    "    X, y, test_size=0.3, random_state=42\n",
    ")\n",
    "\n",
    "# Train CatBoost Classifier (silent mode)\n",
    "cat = CatBoostClassifier(iterations=200, learning_rate=0.1, depth=6, verbose=0, random_state=42)\n",
    "cat.fit(X_train, y_train)\n",
    "\n",
    "# Predictions\n",
    "y_pred = cat.predict(X_test)\n",
    "\n",
    "# Evaluate\n",
    "acc = accuracy_score(y_test, y_pred)\n",
    "print(\"CatBoost Classifier Accuracy: {:.2f}%\".format(acc * 100))\n",
    "\n",
    "# Confusion Matrix\n",
    "cm = confusion_matrix(y_test, y_pred)\n",
    "\n",
    "# Plot using seaborn\n",
    "plt.figure(figsize=(6,4))\n",
    "sns.heatmap(cm, annot=True, fmt=\"d\", cmap=\"Blues\", xticklabels=data.target_names, yticklabels=data.target_names)\n",
    "plt.xlabel(\"Predicted Label\")\n",
    "plt.ylabel(\"True Label\")\n",
    "plt.title(\"Confusion Matrix - CatBoost Classifier\")\n",
    "plt.show()\n"
   ]
  },
  {
   "cell_type": "markdown",
   "id": "6a4981db-4ff7-43b2-81e4-2e1aa24ef2dc",
   "metadata": {},
   "source": [
    "**Q 10:** You're working for a FinTech company trying to predict loan default using customer demographics and transaction behavior. \n",
    "\n",
    "The dataset is imbalanced, contains missing values, and has both numeric and categorical features. \n",
    "\n",
    "- Describe your step-by-step data science pipeline using boosting techniques: \n",
    "    - Data preprocessing & handling missing/categorical values\n",
    "    - Choice between AdaBoost, XGBoost, or CatBoost\n",
    "    - Hyperparameter tuning strategy\n",
    "    - Evaluation metrics you'd choose and why\n",
    "    - How the business would benefit from your model.\n",
    "> (Include your Python code and output in the code box below.)"
   ]
  },
  {
   "cell_type": "markdown",
   "id": "1676365a-4ccb-4405-8628-d5d12b94ddbe",
   "metadata": {},
   "source": [
    "**Ans.**"
   ]
  },
  {
   "cell_type": "markdown",
   "id": "c20e40c2-d38e-40e7-b55c-0fb3d8d5a858",
   "metadata": {},
   "source": [
    "## Problem\n",
    "We want to predict **loan default** using customer demographics and transaction behavior.  \n",
    "Challenges:\n",
    "- **Imbalanced dataset** (few defaults, many non-defaults).  \n",
    "- **Missing values** in features.  \n",
    "- Mix of **numeric + categorical features**.  \n",
    "\n",
    "---\n",
    "\n",
    "## Step 1: Data Preprocessing\n",
    "\n",
    "1. **Handle Missing Values**\n",
    "   - **Numeric features:** Impute with median (robust to outliers) or model-based imputation.  \n",
    "   - **Categorical features:** Use a special category like `\"Missing\"` or CatBoost’s built-in handling.  \n",
    "\n",
    "2. **Feature Encoding**\n",
    "   - **One-Hot Encoding** or Target Encoding for XGBoost/AdaBoost.  \n",
    "   - **No encoding needed** if using CatBoost (it handles categorical features natively).  \n",
    "\n",
    "3. **Feature Scaling**\n",
    "   - Tree-based boosting methods (XGBoost, CatBoost, AdaBoost) **do not require scaling**.  \n",
    "\n",
    "4. **Class Imbalance Handling**\n",
    "   - Use techniques like:\n",
    "     - **Class weights** (`scale_pos_weight` in XGBoost, `class_weights` in CatBoost).  \n",
    "     - **SMOTE/oversampling** minority class if needed.  \n",
    "\n",
    "---\n",
    "\n",
    "## Step 2: Model Choice\n",
    "\n",
    "- **AdaBoost**\n",
    "  - Simple but weaker on complex, imbalanced data.  \n",
    "- **XGBoost**\n",
    "  - Powerful, widely used, supports class imbalance handling, but requires encoding categorical features.  \n",
    "- **CatBoost** ✅\n",
    "  - Best choice here: handles categorical data natively, deals well with missing values, and performs efficiently on mixed-type data.  \n",
    "\n",
    "---\n",
    "\n",
    "## Step 3: Hyperparameter Tuning Strategy\n",
    "\n",
    "- Use **Grid Search** or **Random Search** with **Cross-Validation (Stratified K-Fold)** to preserve class distribution.  \n",
    "- Important hyperparameters:\n",
    "  - `learning_rate`: step size shrinkage (controls overfitting).  \n",
    "  - `depth`: depth of trees (model complexity).  \n",
    "  - `l2_leaf_reg`: regularization term (controls overfitting).  \n",
    "  - `iterations`: number of boosting rounds.  \n",
    "  - `class_weights`: balance the minority class (default cases).  \n",
    "- Use **Bayesian Optimization (Optuna/Hyperopt)** for efficient tuning.  \n",
    "\n",
    "---\n",
    "\n",
    "## Step 4: Evaluation Metrics\n",
    "\n",
    "Since dataset is **imbalanced**, accuracy is **not reliable**.  \n",
    "Preferred metrics:\n",
    "1. **ROC-AUC Score** → Measures overall separability between default vs. non-default.  \n",
    "2. **Precision-Recall AUC** → More useful when defaults are rare (focuses on positive class).  \n",
    "3. **F1-Score (especially for Default class)** → Balance between precision (false positives matter in loans) and recall (catching as many defaulters as possible).  \n",
    "4. **Confusion Matrix** → To interpret business impact of false positives vs. false negatives.  \n",
    "\n",
    "---\n",
    "\n",
    "## Step 5: Business Benefits\n",
    "\n",
    "1. **Better Risk Assessment**\n",
    "   - Identifies high-risk customers → reduces loan defaults.  \n",
    "\n",
    "2. **Improved Profitability**\n",
    "   - Lower losses from defaults, more accurate lending decisions.  \n",
    "\n",
    "3. **Customer Segmentation**\n",
    "   - Can offer different interest rates or credit limits depending on predicted risk.  \n",
    "\n",
    "4. **Regulatory Compliance**\n",
    "   - Transparent model evaluation with metrics like AUC and recall supports compliance with financial regulations.  \n"
   ]
  }
 ],
 "metadata": {
  "kernelspec": {
   "display_name": "Python 3 (ipykernel)",
   "language": "python",
   "name": "python3"
  },
  "language_info": {
   "codemirror_mode": {
    "name": "ipython",
    "version": 3
   },
   "file_extension": ".py",
   "mimetype": "text/x-python",
   "name": "python",
   "nbconvert_exporter": "python",
   "pygments_lexer": "ipython3",
   "version": "3.13.3"
  }
 },
 "nbformat": 4,
 "nbformat_minor": 5
}
